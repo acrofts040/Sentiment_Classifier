{
 "cells": [
  {
   "cell_type": "code",
   "execution_count": 4,
   "id": "916a437f",
   "metadata": {},
   "outputs": [],
   "source": [
    "import numpy as np\n",
    "import pandas as pd\n",
    "\n",
    "x_train_df = pd.read_csv('../data/data_reviews/x_train.csv')\n",
    "y_train_df = np.loadtxt('../data/data_reviews/y_train.csv', delimiter=',', skiprows=1)\n",
    "x_test = pd.read_csv('../data/data_reviews/x_test.csv')\n",
    "\n",
    "tr_text_list = x_train_df['text'].values.tolist()\n",
    "x_test = x_test['text'].values.tolist()\n"
   ]
  },
  {
   "cell_type": "markdown",
   "id": "c38388dd-716b-42bb-90e6-7f7bed05e7be",
   "metadata": {},
   "source": [
    "# Part 0: Pre-Pre Processing"
   ]
  },
  {
   "cell_type": "code",
   "execution_count": 5,
   "id": "e3b91800",
   "metadata": {},
   "outputs": [],
   "source": [
    "import string\n",
    "\n",
    "#pre process, remove all punctuation, and other things\n",
    "\n",
    "l = len(tr_text_list)\n",
    "for i in range(0,l): \n",
    "    a = tr_text_list[i]\n",
    "    tr_text_list[i] = a.translate(str.maketrans('', '', string.punctuation))"
   ]
  },
  {
   "cell_type": "code",
   "execution_count": 7,
   "id": "6c312f2d-4d04-4495-9773-45250bb08b82",
   "metadata": {},
   "outputs": [
    {
     "ename": "NameError",
     "evalue": "name 'test_text_list' is not defined",
     "output_type": "error",
     "traceback": [
      "\u001b[0;31m---------------------------------------------------------------------------\u001b[0m",
      "\u001b[0;31mNameError\u001b[0m                                 Traceback (most recent call last)",
      "\u001b[0;32m/var/folders/sg/2w7kksld3sg90ln6vzk5h44r0000gn/T/ipykernel_7761/2098832377.py\u001b[0m in \u001b[0;36m<module>\u001b[0;34m\u001b[0m\n\u001b[1;32m      2\u001b[0m \u001b[0;32mfrom\u001b[0m \u001b[0msklearn\u001b[0m\u001b[0;34m.\u001b[0m\u001b[0mfeature_extraction\u001b[0m\u001b[0;34m.\u001b[0m\u001b[0mtext\u001b[0m \u001b[0;32mimport\u001b[0m \u001b[0mCountVectorizer\u001b[0m\u001b[0;34m\u001b[0m\u001b[0;34m\u001b[0m\u001b[0m\n\u001b[1;32m      3\u001b[0m \u001b[0mcount_vectorizer\u001b[0m \u001b[0;34m=\u001b[0m \u001b[0mCountVectorizer\u001b[0m\u001b[0;34m(\u001b[0m\u001b[0;34m)\u001b[0m\u001b[0;34m\u001b[0m\u001b[0;34m\u001b[0m\u001b[0m\n\u001b[0;32m----> 4\u001b[0;31m \u001b[0mtst\u001b[0m \u001b[0;34m=\u001b[0m \u001b[0mcount_vectorizer\u001b[0m\u001b[0;34m.\u001b[0m\u001b[0mfit_transform\u001b[0m\u001b[0;34m(\u001b[0m\u001b[0mtest_text_list\u001b[0m\u001b[0;34m)\u001b[0m\u001b[0;34m\u001b[0m\u001b[0;34m\u001b[0m\u001b[0m\n\u001b[0m\u001b[1;32m      5\u001b[0m \u001b[0;34m\u001b[0m\u001b[0m\n\u001b[1;32m      6\u001b[0m \u001b[0mpd\u001b[0m\u001b[0;34m.\u001b[0m\u001b[0mDataFrame\u001b[0m\u001b[0;34m(\u001b[0m\u001b[0mtst\u001b[0m\u001b[0;34m.\u001b[0m\u001b[0mtoarray\u001b[0m\u001b[0;34m(\u001b[0m\u001b[0;34m)\u001b[0m\u001b[0;34m,\u001b[0m \u001b[0mcolumns\u001b[0m\u001b[0;34m=\u001b[0m\u001b[0mcount_vectorizer\u001b[0m\u001b[0;34m.\u001b[0m\u001b[0mget_feature_names_out\u001b[0m\u001b[0;34m(\u001b[0m\u001b[0;34m)\u001b[0m\u001b[0;34m)\u001b[0m\u001b[0;34m\u001b[0m\u001b[0;34m\u001b[0m\u001b[0m\n",
      "\u001b[0;31mNameError\u001b[0m: name 'test_text_list' is not defined"
     ]
    }
   ],
   "source": [
    "#x test tokenizer\n",
    "from sklearn.feature_extraction.text import CountVectorizer\n",
    "count_vectorizer = CountVectorizer()\n",
    "tst = count_vectorizer.fit_transform(test_text_list)\n",
    "\n",
    "pd.DataFrame(tst.toarray(), columns=count_vectorizer.get_feature_names_out())\n",
    "\n",
    "#TODO:remove numbers and super rare words possibly"
   ]
  },
  {
   "cell_type": "markdown",
   "id": "e617e4e2-ba23-4f89-b4c8-9c2fd4060e00",
   "metadata": {},
   "source": [
    "# Part 1: Creating Classifiers"
   ]
  },
  {
   "cell_type": "code",
   "execution_count": 43,
   "id": "237ca327",
   "metadata": {},
   "outputs": [],
   "source": [
    "#first attempt, vanilla, no preprocessing\n",
    "\n",
    "\n",
    "\n",
    "count_vectorizer = CountVectorizer()\n",
    "x = count_vectorizer.fit_transform(tr_text_list)\n",
    "#print(\"Number of features: \", len(x.toarray()[0]))\n",
    "#print(count_vectorizer.get_feature_names())\n",
    "#print(x.toarray())\n",
    "pd.DataFrame(x.toarray(), columns=count_vectorizer.get_feature_names_out())\n",
    "\n",
    "\n",
    "from sklearn.naive_bayes import MultinomialNB\n",
    "clf = MultinomialNB().fit(x, y_train_df)\n",
    "\n",
    "\n"
   ]
  },
  {
   "cell_type": "code",
   "execution_count": 44,
   "id": "fe6a3fda-5715-4920-8fc7-6bb65423698d",
   "metadata": {},
   "outputs": [
    {
     "data": {
      "text/plain": [
       "0.9466666666666667"
      ]
     },
     "execution_count": 44,
     "metadata": {},
     "output_type": "execute_result"
    }
   ],
   "source": [
    "# execute another vanilla, but with removing stop words, should improve score\n",
    "\n",
    "\n",
    "\n",
    "from sklearn.feature_extraction.text import CountVectorizer\n",
    "\n",
    "count_vectorizer = CountVectorizer(stop_words='english')\n",
    "x2 = count_vectorizer.fit_transform(tr_text_list)\n",
    "#print(\"Number of features: \", len(x.toarray()[0]))\n",
    "#print(count_vectorizer.get_feature_names())\n",
    "#print(x.toarray())\n",
    "pd.DataFrame(x2.toarray(), columns=count_vectorizer.get_feature_names_out())\n",
    "\n",
    "from sklearn.naive_bayes import MultinomialNB\n",
    "clf2 = MultinomialNB().fit(x2, y_train_df)\n",
    "\n",
    "\n",
    "x_train = x2\n",
    "\n",
    "clf2.score(x_train,y_train_df)"
   ]
  },
  {
   "cell_type": "markdown",
   "id": "1e5f9ebf",
   "metadata": {},
   "source": [
    "# Part 2: Neural Network"
   ]
  },
  {
   "cell_type": "code",
   "execution_count": 45,
   "id": "21e1a2e7-5dd3-4600-ab6b-4cdb17096bb3",
   "metadata": {},
   "outputs": [
    {
     "data": {
      "text/plain": [
       "0.995"
      ]
     },
     "execution_count": 45,
     "metadata": {},
     "output_type": "execute_result"
    }
   ],
   "source": [
    "#Neural Network Model #1 : Sklearn Docs Demo\n",
    "\n",
    "from sklearn.neural_network import MLPClassifier\n",
    "\n",
    "clf3 = MLPClassifier(solver='lbfgs', alpha=1e-3, hidden_layer_sizes=(5, 2), random_state=1)\n",
    "\n",
    "clf3.fit(x_train, y_train_df)\n",
    "\n",
    "\n",
    "clf3.score(x_train,y_train_df)\n",
    "\n",
    "\n"
   ]
  },
  {
   "cell_type": "code",
   "execution_count": null,
   "id": "e2f42dab",
   "metadata": {},
   "outputs": [],
   "source": []
  },
  {
   "cell_type": "code",
   "execution_count": 112,
   "id": "40648997",
   "metadata": {},
   "outputs": [],
   "source": [
    "#Neural Network Model #2 : Marty's demo implementation\n",
    "from scipy import sparse\n",
    "#TODO: mess with parameters\n",
    "\n",
    "\n",
    "network = MLPClassifier(hidden_layer_sizes=(10,), max_iter=400, random_state=13)\n",
    "network.fit(x_train, y_train_df)\n",
    "network\n",
    "\n",
    "\n",
    "\n",
    "\n",
    "l = len(x_test)\n",
    "for i in range(0,l): \n",
    "    a = x_test[i]\n",
    "    x_test[i] = a.translate(str.maketrans('', '', string.punctuation))\n",
    "\n",
    "\n",
    "    \n",
    "count_vectorizer = CountVectorizer(stop_words='english')\n",
    "xt = count_vectorizer.fit_transform(x_test)\n",
    "\n",
    "\n",
    "\n",
    "#print(xt)\n",
    "\n",
    "#print(type(xt))\n",
    "#yproba1_test = network.predict_proba(xt)\n",
    "#np.savetxt('yproba1_test.txt', yproba1_test)\n"
   ]
  },
  {
   "cell_type": "markdown",
   "id": "3b68fd60",
   "metadata": {},
   "source": [
    "# Part 3: SVM"
   ]
  },
  {
   "cell_type": "code",
   "execution_count": 115,
   "id": "98d7fe55",
   "metadata": {},
   "outputs": [
    {
     "data": {
      "text/plain": [
       "0.96375"
      ]
     },
     "execution_count": 115,
     "metadata": {},
     "output_type": "execute_result"
    }
   ],
   "source": [
    "from sklearn import svm\n",
    "clf4 = svm.SVC()\n",
    "clf4.fit(x_train, y_train_df)\n",
    "clf4.score(x_train,y_train_df)"
   ]
  }
 ],
 "metadata": {
  "kernelspec": {
   "display_name": "Python 3 (ipykernel)",
   "language": "python",
   "name": "python3"
  },
  "language_info": {
   "codemirror_mode": {
    "name": "ipython",
    "version": 3
   },
   "file_extension": ".py",
   "mimetype": "text/x-python",
   "name": "python",
   "nbconvert_exporter": "python",
   "pygments_lexer": "ipython3",
   "version": "3.10.0"
  }
 },
 "nbformat": 4,
 "nbformat_minor": 5
}
