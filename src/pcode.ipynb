{
 "cells": [
  {
   "cell_type": "code",
   "execution_count": 2,
   "id": "916a437f",
   "metadata": {},
   "outputs": [
    {
     "name": "stderr",
     "output_type": "stream",
     "text": [
      "[nltk_data] Downloading package stopwords to\n",
      "[nltk_data]     /Users/andrewcrofts/nltk_data...\n",
      "[nltk_data]   Package stopwords is already up-to-date!\n",
      "[nltk_data] Downloading package words to\n",
      "[nltk_data]     /Users/andrewcrofts/nltk_data...\n",
      "[nltk_data]   Package words is already up-to-date!\n"
     ]
    }
   ],
   "source": [
    "import numpy as np\n",
    "import pandas as pd\n",
    "from matplotlib import pyplot as plt\n",
    "import nltk\n",
    "nltk.download('stopwords')\n",
    "import re\n",
    "from nltk.stem.porter import PorterStemmer\n",
    "import nltk\n",
    "nltk.download('words')\n",
    "from nltk.corpus import words\n",
    "setofwords = set(words.words())\n",
    "from sklearn.metrics import roc_auc_score\n",
    "\n",
    "from sklearn.feature_extraction.text import CountVectorizer\n",
    "\n",
    "\n",
    "\n",
    "x_train_df = pd.read_csv('data_reviews/x_train.csv')\n",
    "y_train_df = np.loadtxt('data_reviews/y_train.csv', delimiter=',', skiprows=1)\n",
    "x_test = pd.read_csv('data_reviews/x_test.csv')\n",
    "\n",
    "\n",
    "tr_text_list = x_train_df['text'].values.tolist()\n",
    "x_test_list = x_test['text'].values.tolist()\n",
    "\n",
    "a_file = open(\"data_reviews/stops.txt\")\n",
    "file_contents = a_file.read()\n",
    "stopwords = file_contents.splitlines()\n"
   ]
  },
  {
   "cell_type": "markdown",
   "id": "c38388dd-716b-42bb-90e6-7f7bed05e7be",
   "metadata": {},
   "source": [
    "# Part 0: Pre-Pre Processing"
   ]
  },
  {
   "cell_type": "code",
   "execution_count": 3,
   "id": "e3b91800",
   "metadata": {},
   "outputs": [],
   "source": [
    "import string\n",
    "\n",
    "#pre process, remove all punctuation, and other things\n",
    "\n",
    "l = len(tr_text_list)\n",
    "for i in range(0,l): \n",
    "    a = tr_text_list[i]\n",
    "    tr_text_list[i] = a.translate(str.maketrans('', '', string.punctuation))\n",
    "\n",
    "    \n"
   ]
  },
  {
   "cell_type": "code",
   "execution_count": 4,
   "id": "6c312f2d-4d04-4495-9773-45250bb08b82",
   "metadata": {},
   "outputs": [
    {
     "name": "stdout",
     "output_type": "stream",
     "text": [
      "600\n",
      "e\n",
      "<class 'list'>\n"
     ]
    }
   ],
   "source": [
    "#x test tokenizer\n",
    "\n",
    "print(len(x_test_list))\n",
    "\n",
    "print(x_test_list[5][146])\n",
    "\n",
    "\n",
    "\n",
    "l = len(x_test_list)\n",
    "arr = []\n",
    "for i in range(0,l):\n",
    "    #remove punctuation\n",
    "    a = x_test_list[i]\n",
    "    x_test_list[i] = a.translate(str.maketrans('', '', string.punctuation))\n",
    "    \n",
    "    #lowercase all characters\n",
    "    #a2 = len(a)\n",
    "   # print(a2)\n",
    "    #st = \"\"\n",
    "   # for j in range(0,a2):\n",
    "        #print(j)\n",
    "    #    st += x_test[i][j].lower()\n",
    "    #arr.append(st)\n",
    "   # print(\"DONE\")\n",
    "    \n",
    "#x_test = arr\n",
    "\n",
    "print(type(x_test_list))\n",
    "\n",
    "\n",
    "#pd.DataFrame(x_test.toarray(), columns=count_vectorizer.get_feature_names_out())\n",
    "\n",
    "#TODO:remove numbers and super rare words possibly"
   ]
  },
  {
   "cell_type": "code",
   "execution_count": 5,
   "id": "9d3ec750",
   "metadata": {},
   "outputs": [],
   "source": [
    "\n",
    "\n",
    "def stop_stemming_tokenizer(str_input):\n",
    "    words = re.sub(r\"[^A-Za-z0-9\\-]\", \" \", str_input).lower().split()\n",
    "    # remove stops using nltk\n",
    "\n",
    "    stops = stopwords\n",
    "    words = [w for w in words if ((w not in stops) and (w in setofwords))]\n",
    "    \n",
    "    # stem the remaining words after removing stops; \n",
    "    # what happens if we do this *before* removing stops?\n",
    "    porter_stemmer = PorterStemmer()\n",
    "    words = [porter_stemmer.stem(word) for word in words]\n",
    "    \n",
    "    return words\n",
    "\n",
    "\n",
    "\n",
    "\n",
    "\n",
    "\n",
    "\n"
   ]
  },
  {
   "cell_type": "markdown",
   "id": "069becbe",
   "metadata": {},
   "source": [
    "# Part 0.5: Testing Infrastructure"
   ]
  },
  {
   "cell_type": "code",
   "execution_count": 6,
   "id": "5cdb10b3",
   "metadata": {},
   "outputs": [],
   "source": [
    "def k_fold_split(arr,k):\n",
    "    l = len(arr)\n",
    "    split = int(round(l/k))\n",
    "    \n",
    "    # test , train\n",
    "    return arr[:split] , arr[split:]\n"
   ]
  },
  {
   "cell_type": "code",
   "execution_count": 7,
   "id": "0b053bcd",
   "metadata": {},
   "outputs": [
    {
     "name": "stdout",
     "output_type": "stream",
     "text": [
      "999\n",
      "500 499\n",
      "[1.5, 1.5732867233996144, 1.6501540760169964, 1.7307769995741988, 1.8153389830636713, 1.9040324803492208, 1.9970593481700438, 2.0946313055446786, 2.196970415620429, 2.3043095910649023, 2.416893124149871, 2.534977242733871, 2.658830693408907, 2.788735353138416, 2.9249868707785365, 3.067895339942703, 3.217786004740934, 3.375, 3.539895127649132, 3.7128466710382417, 3.894248249041947, 4.08451271189326, 4.284073080785747, 4.493383533382599, 4.7129204374755265, 4.943183435145965, 5.1846965798960305, 5.438009529337207, 5.70369879615121, 5.982369060170042, 6.274654544561436, 6.581220459251706, 6.902764514871082, 7.240018510667103, 7.59375]\n"
     ]
    }
   ],
   "source": [
    "a = np.zeros(999)\n",
    "print(len(a))\n",
    "a1,a2 = k_fold_split(a,2)\n",
    "print(len(a1), len(a2))\n",
    "\n",
    "iters = np.logspace(1, 5, base=1.5, num=35)\n",
    "iters = [float(x) for x in iters]\n",
    "print(iters)"
   ]
  },
  {
   "cell_type": "markdown",
   "id": "e617e4e2-ba23-4f89-b4c8-9c2fd4060e00",
   "metadata": {},
   "source": [
    "# Part 1: Creating Classifiers"
   ]
  },
  {
   "cell_type": "code",
   "execution_count": 23,
   "id": "237ca327",
   "metadata": {},
   "outputs": [
    {
     "name": "stdout",
     "output_type": "stream",
     "text": [
      "2400\n",
      "2377 23\n"
     ]
    }
   ],
   "source": [
    "#first attempt, vanilla, no preprocessing\n",
    "\n",
    "print(len(tr_text_list))\n",
    "i = 106\n",
    "x_split,x_train = k_fold_split(tr_text_list,i)\n",
    "y_split,y_train = k_fold_split(y_train_df,i)\n",
    "\n",
    "print(len(x_train), len(x_split))\n",
    "\n",
    "count_vectorizer = CountVectorizer()\n",
    "\n",
    "x = count_vectorizer.fit_transform(x_train)\n",
    "x_train = pd.DataFrame(x.toarray(), columns=count_vectorizer.get_feature_names_out())\n",
    "\n",
    "xl = count_vectorizer.transform(x_split)\n",
    "x_split = pd.DataFrame(xl.toarray(), columns=count_vectorizer.get_feature_names_out())\n",
    "\n",
    "\n",
    "xt = count_vectorizer.transform(x_test_list)\n",
    "x_test = pd.DataFrame(xt.toarray(), columns=count_vectorizer.get_feature_names_out())"
   ]
  },
  {
   "cell_type": "code",
   "execution_count": 24,
   "id": "d6f969b1",
   "metadata": {},
   "outputs": [],
   "source": [
    "def temp_class(i):\n",
    "    x_split,x_train = k_fold_split(tr_text_list,i)\n",
    "    y_split,y_train = k_fold_split(y_train_df,i)\n",
    "    \n",
    "    \n",
    "    count_vectorizer = CountVectorizer()\n",
    "\n",
    "    x = count_vectorizer.fit_transform(x_train)\n",
    "    x_train = pd.DataFrame(x.toarray(), columns=count_vectorizer.get_feature_names_out())\n",
    "\n",
    "    xl = count_vectorizer.transform(x_split)\n",
    "    x_split = pd.DataFrame(xl.toarray(), columns=count_vectorizer.get_feature_names_out())\n",
    "\n",
    "    return x_train,y_train,x_split,y_split\n",
    "    "
   ]
  },
  {
   "cell_type": "code",
   "execution_count": 25,
   "id": "4f7c8cca",
   "metadata": {},
   "outputs": [],
   "source": [
    "from sklearn.feature_extraction.text import TfidfVectorizer\n",
    "\n",
    "i = 111\n",
    "tempx1,tempx2 = k_fold_split(tr_text_list,i)\n",
    "tempy1,tempy2 = k_fold_split(y_train_df,i)\n",
    "\n",
    "\n",
    "\n",
    "tf_vectorizer = TfidfVectorizer(tokenizer=stop_stemming_tokenizer, use_idf=False)\n",
    "x2 = tf_vectorizer.fit_transform(tempx2)\n",
    "x_train2 = pd.DataFrame(x2.toarray(), columns=tf_vectorizer.get_feature_names_out())\n",
    "\n",
    "xl2 = tf_vectorizer.transform(tempx1)\n",
    "x_split2 = pd.DataFrame(xl2.toarray(), columns=tf_vectorizer.get_feature_names_out())\n",
    "\n",
    "\n",
    "#print(x_train2)\n",
    "xt2 = tf_vectorizer.transform(x_test_list)\n",
    "x_test2 = pd.DataFrame(xt2.toarray(), columns=tf_vectorizer.get_feature_names_out())\n",
    "\n",
    "#print(len(x_split2))\n",
    "#print(len(tempy2))"
   ]
  },
  {
   "cell_type": "code",
   "execution_count": null,
   "id": "3c4749c1",
   "metadata": {},
   "outputs": [],
   "source": []
  },
  {
   "cell_type": "code",
   "execution_count": 35,
   "id": "3a1cae98",
   "metadata": {},
   "outputs": [
    {
     "name": "stdout",
     "output_type": "stream",
     "text": [
      "0.8695652173913043\n",
      "0.976861590239798\n",
      "600\n",
      "0.7727272727272727\n"
     ]
    }
   ],
   "source": [
    "\n",
    "from sklearn.linear_model import LogisticRegression\n",
    "\n",
    "clf = LogisticRegression(solver = 'liblinear',random_state=100, penalty = 'elasticnet').fit(x_train, y_train)\n",
    "print(clf.score(x_split,y_split))\n",
    "print(clf.score(x_train, y_train))\n",
    "\n",
    "print(len(x_test))\n",
    "\n",
    "clf2 = LogisticRegression(random_state=10).fit(x_train2, tempy2)\n",
    "x_split2,tempy1\n",
    "print(clf2.score(x_split2,tempy1))\n",
    "\n",
    "yproba1_test = clf.predict(x_test)\n",
    "np.savetxt('yproba1_test.txt', yproba1_test)"
   ]
  },
  {
   "cell_type": "code",
   "execution_count": 47,
   "id": "c938849d",
   "metadata": {},
   "outputs": [
    {
     "name": "stdout",
     "output_type": "stream",
     "text": [
      "[0.01       0.04641589 0.21544347 1.        ]\n",
      "doned 0\n",
      "doned 1\n",
      "doned 2\n"
     ]
    },
    {
     "name": "stderr",
     "output_type": "stream",
     "text": [
      "/opt/miniconda3/envs/ml135_env_sp21/lib/python3.8/site-packages/sklearn/linear_model/_sag.py:352: ConvergenceWarning: The max_iter was reached which means the coef_ did not converge\n",
      "  warnings.warn(\n"
     ]
    },
    {
     "name": "stdout",
     "output_type": "stream",
     "text": [
      "doned 3\n"
     ]
    },
    {
     "name": "stderr",
     "output_type": "stream",
     "text": [
      "/opt/miniconda3/envs/ml135_env_sp21/lib/python3.8/site-packages/sklearn/linear_model/_sag.py:352: ConvergenceWarning: The max_iter was reached which means the coef_ did not converge\n",
      "  warnings.warn(\n"
     ]
    },
    {
     "ename": "IndexError",
     "evalue": "list index out of range",
     "output_type": "error",
     "traceback": [
      "\u001b[0;31m---------------------------------------------------------------------------\u001b[0m",
      "\u001b[0;31mIndexError\u001b[0m                                Traceback (most recent call last)",
      "\u001b[0;32m/var/folders/sg/2w7kksld3sg90ln6vzk5h44r0000gn/T/ipykernel_4926/2038844252.py\u001b[0m in \u001b[0;36m<module>\u001b[0;34m\u001b[0m\n\u001b[1;32m      6\u001b[0m \u001b[0;32mfor\u001b[0m \u001b[0mi\u001b[0m \u001b[0;32min\u001b[0m \u001b[0mrange\u001b[0m\u001b[0;34m(\u001b[0m\u001b[0;36m0\u001b[0m\u001b[0;34m,\u001b[0m\u001b[0;36m15\u001b[0m\u001b[0;34m)\u001b[0m\u001b[0;34m:\u001b[0m\u001b[0;34m\u001b[0m\u001b[0;34m\u001b[0m\u001b[0m\n\u001b[1;32m      7\u001b[0m     \u001b[0;31m#clf3 = MLPClassifier(solver='lbfgs', alpha=alphas[i], hidden_layer_sizes=(5, 2), random_state=1)\u001b[0m\u001b[0;34m\u001b[0m\u001b[0;34m\u001b[0m\u001b[0;34m\u001b[0m\u001b[0m\n\u001b[0;32m----> 8\u001b[0;31m     \u001b[0mclf\u001b[0m \u001b[0;34m=\u001b[0m \u001b[0mLogisticRegression\u001b[0m\u001b[0;34m(\u001b[0m\u001b[0msolver\u001b[0m \u001b[0;34m=\u001b[0m \u001b[0;34m'saga'\u001b[0m\u001b[0;34m,\u001b[0m \u001b[0mrandom_state\u001b[0m\u001b[0;34m=\u001b[0m\u001b[0;36m100\u001b[0m\u001b[0;34m,\u001b[0m \u001b[0mpenalty\u001b[0m \u001b[0;34m=\u001b[0m \u001b[0;34m'elasticnet'\u001b[0m\u001b[0;34m,\u001b[0m \u001b[0ml1_ratio\u001b[0m \u001b[0;34m=\u001b[0m \u001b[0miters\u001b[0m\u001b[0;34m[\u001b[0m\u001b[0mi\u001b[0m\u001b[0;34m]\u001b[0m\u001b[0;34m,\u001b[0m \u001b[0mmax_iter\u001b[0m \u001b[0;34m=\u001b[0m \u001b[0;36m400\u001b[0m\u001b[0;34m)\u001b[0m\u001b[0;34m.\u001b[0m\u001b[0mfit\u001b[0m\u001b[0;34m(\u001b[0m\u001b[0mx_train\u001b[0m\u001b[0;34m,\u001b[0m \u001b[0my_train\u001b[0m\u001b[0;34m)\u001b[0m\u001b[0;34m\u001b[0m\u001b[0;34m\u001b[0m\u001b[0m\n\u001b[0m\u001b[1;32m      9\u001b[0m     \u001b[0mclf\u001b[0m\u001b[0;34m.\u001b[0m\u001b[0mfit\u001b[0m\u001b[0;34m(\u001b[0m\u001b[0mx_train\u001b[0m\u001b[0;34m,\u001b[0m \u001b[0my_train\u001b[0m\u001b[0;34m)\u001b[0m\u001b[0;34m\u001b[0m\u001b[0;34m\u001b[0m\u001b[0m\n\u001b[1;32m     10\u001b[0m     \u001b[0mscores2\u001b[0m\u001b[0;34m.\u001b[0m\u001b[0mappend\u001b[0m\u001b[0;34m(\u001b[0m\u001b[0mclf\u001b[0m\u001b[0;34m.\u001b[0m\u001b[0mscore\u001b[0m\u001b[0;34m(\u001b[0m\u001b[0mx_split\u001b[0m\u001b[0;34m,\u001b[0m\u001b[0my_split\u001b[0m\u001b[0;34m)\u001b[0m\u001b[0;34m)\u001b[0m\u001b[0;34m\u001b[0m\u001b[0;34m\u001b[0m\u001b[0m\n",
      "\u001b[0;31mIndexError\u001b[0m: list index out of range"
     ]
    }
   ],
   "source": [
    "iters = np.logspace(-2, 0, base=10, num=4)\n",
    "print(iters)\n",
    "iters = [int(x) for x in iters]\n",
    "scores2 = []\n",
    "\n",
    "for i in range(0,15):\n",
    "    #clf3 = MLPClassifier(solver='lbfgs', alpha=alphas[i], hidden_layer_sizes=(5, 2), random_state=1)\n",
    "    clf = LogisticRegression(solver = 'saga', random_state=100, penalty = 'elasticnet', l1_ratio = iters[i], max_iter = 400).fit(x_train, y_train)\n",
    "    clf.fit(x_train, y_train)\n",
    "    scores2.append(clf.score(x_split,y_split))\n",
    "    print(\"doned\",i)\n"
   ]
  },
  {
   "cell_type": "code",
   "execution_count": 48,
   "id": "33508872",
   "metadata": {},
   "outputs": [
    {
     "data": {
      "text/plain": [
       "Text(0, 0.5, 'Model Score')"
      ]
     },
     "execution_count": 48,
     "metadata": {},
     "output_type": "execute_result"
    },
    {
     "data": {
      "image/png": "[encoded data removed]",
      "text/plain": [
       "<Figure size 432x288 with 1 Axes>"
      ]
     },
     "metadata": {
      "needs_background": "light"
     },
     "output_type": "display_data"
    }
   ],
   "source": [
    "plt.plot(scores2)\n",
    "plt.xlabel(\"l1 ratio\")\n",
    "plt.ylabel(\"Model Score\")"
   ]
  },
  {
   "cell_type": "code",
   "execution_count": 150,
   "id": "a0959774",
   "metadata": {},
   "outputs": [
    {
     "name": "stdout",
     "output_type": "stream",
     "text": [
      "[86.49755859375, 87.14947974541307, 87.80631434428655, 88.46809942240034, 89.13487229088985, 89.80667054209987, 90.48353205170386, 91.16549498083965, 91.85259777826055, 92.5448791825032, 93.24237822407194, 93.94513422763887, 94.65318681426116, 95.36657590361509, 96.08534171624625, 96.80952477583749, 97.53916591149346, 98.27430626004279, 99.01498726835699, 99.76125069568741, 100.51313861601976, 101.27069342044588, 102.03395781955389, 102.80297484583642, 103.57778785611633, 104.35844053399147, 105.14497689229732, 105.93744127558878, 106.73587836263982, 107.54033316896268, 108.35085104934602, 109.1674777004116, 109.99025916319083, 110.81924182572077, 111.65447242565902, 112.49599805291906, 113.34386615232502, 114.19812452628689, 115.05882133749515, 115.92600511163634, 116.79972474012928, 117.6800294828809, 118.56696897106394, 119.46059320991492, 120.36095258155373, 121.26809784782371, 122.18208015315375, 123.10295102744209, 124.03076238896104, 124.96556654728435, 125.90741620623669, 126.85636446686449, 127.81246483043017, 128.77577120142828, 129.746337890625]\n",
      "done\n",
      "done\n",
      "done\n",
      "done\n",
      "done\n",
      "done\n",
      "done\n",
      "done\n",
      "done\n",
      "done\n",
      "done\n",
      "done\n",
      "done\n",
      "done\n",
      "done\n",
      "done\n",
      "done\n",
      "done\n",
      "done\n",
      "done\n",
      "done\n",
      "done\n",
      "done\n",
      "done\n",
      "done\n",
      "done\n",
      "done\n",
      "done\n",
      "done\n",
      "done\n",
      "done\n",
      "done\n",
      "done\n",
      "done\n",
      "done\n",
      "done\n",
      "done\n",
      "done\n",
      "done\n",
      "done\n",
      "done\n",
      "done\n",
      "done\n",
      "done\n",
      "done\n",
      "done\n",
      "done\n",
      "done\n",
      "done\n",
      "done\n",
      "done\n",
      "done\n",
      "done\n",
      "done\n",
      "done\n"
     ]
    }
   ],
   "source": [
    "\n",
    "iters = np.logspace(11, 12, base=1.5, num=55)\n",
    "iters = [float(x) for x in iters]\n",
    "print(iters)\n",
    "\n",
    "scores = []\n",
    "for i in iters:\n",
    "    x_traint,y_traint,x_splitt,y_splitt = temp_class(i)\n",
    "    clf = LogisticRegression(solver = 'newton-cg',random_state=10).fit(x_traint, y_traint)\n",
    "    scores.append(clf.score(x_splitt,y_splitt))\n",
    "    print(\"done\")\n"
   ]
  },
  {
   "cell_type": "code",
   "execution_count": 152,
   "id": "818971de",
   "metadata": {},
   "outputs": [
    {
     "name": "stdout",
     "output_type": "stream",
     "text": [
      "28\n",
      "106.73587836263982\n"
     ]
    },
    {
     "data": {
      "text/plain": [
       "Text(0, 0.5, 'Model Score')"
      ]
     },
     "execution_count": 152,
     "metadata": {},
     "output_type": "execute_result"
    },
    {
     "data": {
      "image/png": "[encoded data removed]",
      "text/plain": [
       "<Figure size 432x288 with 1 Axes>"
      ]
     },
     "metadata": {
      "needs_background": "light"
     },
     "output_type": "display_data"
    }
   ],
   "source": [
    "plt.plot(iters,scores)\n",
    "print(scores.index(max(scores)))\n",
    "\n",
    "print(iters[28])\n",
    "plt.xlabel(\"K values\")\n",
    "plt.ylabel(\"Model Score\")"
   ]
  },
  {
   "cell_type": "markdown",
   "id": "1e5f9ebf",
   "metadata": {},
   "source": [
    "# Part 2: Neural Network"
   ]
  },
  {
   "cell_type": "code",
   "execution_count": 185,
   "id": "21e1a2e7-5dd3-4600-ab6b-4cdb17096bb3",
   "metadata": {},
   "outputs": [
    {
     "name": "stdout",
     "output_type": "stream",
     "text": [
      "done\n",
      "done\n",
      "done\n",
      "done\n",
      "done\n",
      "done\n",
      "done\n",
      "done\n",
      "done\n",
      "done\n",
      "done\n",
      "done\n",
      "done\n",
      "done\n",
      "done\n",
      "done\n",
      "done\n",
      "done\n",
      "done\n",
      "done\n"
     ]
    }
   ],
   "source": [
    "#Neural Network Model #1 : Sklearn Docs Demo\n",
    "from sklearn.neural_network import MLPClassifier\n",
    "\n",
    "\n",
    "#find optimal alpha\n",
    "alphas = np.logspace(-6, 2, base=10, num=20)\n",
    "scores = []\n",
    "for i in range(0,20):\n",
    "    #clf3 = MLPClassifier(solver='lbfgs', alpha=alphas[i], hidden_layer_sizes=(5, 2), random_state=1)\n",
    "    clf3 = MLPClassifier(hidden_layer_sizes=(10,), alpha = alphas[i] ,max_iter=600, random_state=13)\n",
    "    clf3.fit(x_train, y_train)\n",
    "    scores.append(clf3.score(x_split,y_split))\n",
    "    print(\"done\")\n",
    "\n",
    "\n",
    "#k fold test\n",
    "#clf3.score(x_split,y_split)"
   ]
  },
  {
   "cell_type": "code",
   "execution_count": 191,
   "id": "e2f42dab",
   "metadata": {},
   "outputs": [
    {
     "name": "stdout",
     "output_type": "stream",
     "text": [
      "0.8695652173913043\n",
      "12\n",
      "0.0008858667904100823\n"
     ]
    },
    {
     "data": {
      "image/png": "[encoded data removed]",
      "text/plain": [
       "<Figure size 432x288 with 1 Axes>"
      ]
     },
     "metadata": {
      "needs_background": "light"
     },
     "output_type": "display_data"
    }
   ],
   "source": [
    "plt.plot(alphas,scores)\n",
    "plt.xlabel(\"Alphas\")\n",
    "plt.ylabel(\"Model Score\")\n",
    "plt.ylim([.3,.95])\n",
    "plt.xlim(0,13)\n",
    "\n",
    "\n",
    "print(max(scores))\n",
    "print(scores.index(max(scores)))\n",
    "print(alphas[7])"
   ]
  },
  {
   "cell_type": "code",
   "execution_count": 198,
   "id": "dabc6188",
   "metadata": {},
   "outputs": [
    {
     "name": "stderr",
     "output_type": "stream",
     "text": [
      "/opt/miniconda3/envs/ml135_env_sp21/lib/python3.8/site-packages/sklearn/neural_network/_multilayer_perceptron.py:692: ConvergenceWarning: Stochastic Optimizer: Maximum iterations (100) reached and the optimization hasn't converged yet.\n",
      "  warnings.warn(\n"
     ]
    },
    {
     "name": "stdout",
     "output_type": "stream",
     "text": [
      "done 0\n"
     ]
    },
    {
     "name": "stderr",
     "output_type": "stream",
     "text": [
      "/opt/miniconda3/envs/ml135_env_sp21/lib/python3.8/site-packages/sklearn/neural_network/_multilayer_perceptron.py:692: ConvergenceWarning: Stochastic Optimizer: Maximum iterations (163) reached and the optimization hasn't converged yet.\n",
      "  warnings.warn(\n"
     ]
    },
    {
     "name": "stdout",
     "output_type": "stream",
     "text": [
      "done 1\n",
      "done 2\n",
      "done 3\n",
      "done 4\n",
      "done 5\n",
      "done 6\n",
      "done 7\n",
      "done 8\n",
      "done 9\n",
      "done 10\n",
      "done 11\n",
      "done 12\n",
      "done 13\n",
      "done 14\n"
     ]
    }
   ],
   "source": [
    "iters = np.logspace(2, 5, base=10, num=15)\n",
    "iters = [int(x) for x in iters]\n",
    "scores2 = []\n",
    "\n",
    "for i in range(0,15):\n",
    "    #clf3 = MLPClassifier(solver='lbfgs', alpha=alphas[i], hidden_layer_sizes=(5, 2), random_state=1)\n",
    "    clf3 = MLPClassifier(hidden_layer_sizes=(10,), alpha = .01 ,max_iter=iters[i], random_state=13)\n",
    "    clf3.fit(x_train, y_train)\n",
    "    scores2.append(clf3.score(x_split,y_split))\n",
    "    print(\"done\",i)\n",
    "\n"
   ]
  },
  {
   "cell_type": "code",
   "execution_count": 199,
   "id": "4ca3218f",
   "metadata": {},
   "outputs": [
    {
     "data": {
      "text/plain": [
       "(0.6, 0.95)"
      ]
     },
     "execution_count": 199,
     "metadata": {},
     "output_type": "execute_result"
    },
    {
     "data": {
      "image/png": "[encoded data removed]",
      "text/plain": [
       "<Figure size 432x288 with 1 Axes>"
      ]
     },
     "metadata": {
      "needs_background": "light"
     },
     "output_type": "display_data"
    }
   ],
   "source": [
    "plt.plot(scores2)\n",
    "plt.xlabel(\"Max_Iterations\")\n",
    "plt.ylabel(\"Model Score\")\n",
    "plt.ylim([.6,.95])\n",
    "\n"
   ]
  },
  {
   "cell_type": "code",
   "execution_count": 192,
   "id": "7c4dc8ad",
   "metadata": {},
   "outputs": [
    {
     "name": "stdout",
     "output_type": "stream",
     "text": [
      "0.8695652173913043\n",
      "0.8636363636363636\n"
     ]
    }
   ],
   "source": [
    "clf2 = MLPClassifier(solver='lbfgs', alpha=.01,max_iter=400, hidden_layer_sizes=(10,), random_state=100)\n",
    "clf2.fit(x_train, y_train)\n",
    "clf3 = MLPClassifier(hidden_layer_sizes=(10,), alpha = .0088 ,max_iter=1200, random_state=13)\n",
    "clf3.fit(x_train2, tempy2)\n",
    "#400 should be plenty\n",
    "\n",
    "print(clf2.score(x_split,y_split))\n",
    "print(clf3.score(x_split2,tempy1))\n",
    "\n",
    "\n",
    "yproba1_test = clf3.predict(x_test2)\n",
    "np.savetxt('yproba1_test.txt', yproba1_test)\n"
   ]
  },
  {
   "cell_type": "code",
   "execution_count": 208,
   "id": "7dc6fdc3",
   "metadata": {},
   "outputs": [
    {
     "name": "stdout",
     "output_type": "stream",
     "text": [
      "[86.49755859375, 89.0393122273173, 91.65575596357401, 94.34908459093951, 97.12155739227128, 99.97550004005092, 102.91330654726102, 105.93744127558878, 109.05044100264125, 112.25491704990633, 115.55355747324437, 118.94912931774813, 122.44448093886196, 126.04254439170838, 129.746337890625]\n",
      "done\n",
      "done\n",
      "done\n",
      "done\n",
      "done\n",
      "done\n",
      "done\n",
      "done\n",
      "done\n",
      "done\n",
      "done\n",
      "done\n",
      "done\n",
      "done\n",
      "done\n"
     ]
    }
   ],
   "source": [
    "iters = np.logspace(11, 12, base=1.5, num=15)\n",
    "iters = [float(x) for x in iters]\n",
    "print(iters)\n",
    "\n",
    "scores = []\n",
    "for i in iters:\n",
    "    x_traint,y_traint,x_splitt,y_splitt = temp_class(i)\n",
    "    clf = clf3 = MLPClassifier(hidden_layer_sizes=(10,), alpha = .0088 ,max_iter=600, random_state=13).fit(x_traint, y_traint)\n",
    "    scores.append(clf.score(x_splitt,y_splitt))\n",
    "    print(\"done\")"
   ]
  },
  {
   "cell_type": "code",
   "execution_count": 210,
   "id": "d52d4428",
   "metadata": {},
   "outputs": [
    {
     "name": "stdout",
     "output_type": "stream",
     "text": [
      "11\n"
     ]
    },
    {
     "data": {
      "text/plain": [
       "Text(0, 0.5, 'Model Score')"
      ]
     },
     "execution_count": 210,
     "metadata": {},
     "output_type": "execute_result"
    },
    {
     "data": {
      "image/png": "[encoded data removed]",
      "text/plain": [
       "<Figure size 432x288 with 1 Axes>"
      ]
     },
     "metadata": {
      "needs_background": "light"
     },
     "output_type": "display_data"
    }
   ],
   "source": [
    "plt.plot(iters,scores)\n",
    "print(scores.index(max(scores)))\n",
    "\n",
    "#print(iters[28])\n",
    "plt.xlabel(\"K values\")\n",
    "plt.ylabel(\"Model Score\")"
   ]
  },
  {
   "cell_type": "code",
   "execution_count": null,
   "id": "40648997",
   "metadata": {},
   "outputs": [],
   "source": [
    "#Neural Network Model #2 : Marty's demo implementation\n",
    "#TODO: mess with parameters\n",
    "print(len(x_train2))\n",
    "print(len(y_train))\n",
    "\n",
    "network = MLPClassifier(solver='adam', alpha=.008,max_iter=14000, hidden_layer_sizes=(10,), random_state=100)\n",
    "network.fit(x_train2, tempy2)\n",
    "print(network.score(x_train2, tempy2))\n",
    "#k fold test\n",
    "print(network.score(x_split2,tempy1))\n",
    "\n",
    "\n",
    "#network.get_params()"
   ]
  },
  {
   "cell_type": "code",
   "execution_count": 90,
   "id": "9799cda1",
   "metadata": {},
   "outputs": [],
   "source": [
    "#TODO: VERY IMPORTANT: retrain with whole(unsplit) data set\n",
    "\n",
    "yproba1_test = network.predict(x_test2)\n",
    "np.savetxt('yproba1_test.txt', yproba1_test)\n"
   ]
  },
  {
   "cell_type": "markdown",
   "id": "3b68fd60",
   "metadata": {},
   "source": [
    "# Part 3: SVM or Something...."
   ]
  },
  {
   "cell_type": "code",
   "execution_count": 212,
   "id": "98d7fe55",
   "metadata": {},
   "outputs": [
    {
     "name": "stdout",
     "output_type": "stream",
     "text": [
      "0.8260869565217391\n"
     ]
    }
   ],
   "source": [
    "from sklearn import svm\n",
    "\n",
    "clf4 = svm.SVC()\n",
    "clf4.fit(x_train, y_train)\n",
    "\n",
    "print(clf4.score(x_split,y_split))\n",
    "\n",
    "\n",
    "#yproba1_test = clf4.predict(x_test)\n",
    "#np.savetxt('yproba1_test.txt', yproba1_test)"
   ]
  },
  {
   "cell_type": "code",
   "execution_count": 213,
   "id": "a8acce6d",
   "metadata": {},
   "outputs": [
    {
     "name": "stdout",
     "output_type": "stream",
     "text": [
      "0.782608695652174\n"
     ]
    }
   ],
   "source": [
    "from sklearn import svm, datasets\n",
    "from sklearn.model_selection import GridSearchCV\n",
    "\n",
    "\n",
    "parameters = {'kernel':('linear', 'sigmoid','rbf'), 'C':[1, 10], 'gamma':('scale', 'auto'), 'shrinking':(True,False)}\n",
    "svc = svm.SVC()\n",
    "grid = GridSearchCV(svc, parameters)\n",
    "grid.fit(x_train, y_train)\n",
    "print(grid.score(x_split,y_split))"
   ]
  },
  {
   "cell_type": "code",
   "execution_count": 135,
   "id": "a77989cc",
   "metadata": {},
   "outputs": [],
   "source": [
    "yproba1_test = grid.predict(x_test)\n",
    "np.savetxt('yproba1_test.txt', yproba1_test)"
   ]
  },
  {
   "cell_type": "code",
   "execution_count": null,
   "id": "df50627d",
   "metadata": {},
   "outputs": [],
   "source": []
  }
 ],
 "metadata": {
  "kernelspec": {
   "display_name": "Python 3 (ipykernel)",
   "language": "python",
   "name": "python3"
  },
  "language_info": {
   "codemirror_mode": {
    "name": "ipython",
    "version": 3
   },
   "file_extension": ".py",
   "mimetype": "text/x-python",
   "name": "python",
   "nbconvert_exporter": "python",
   "pygments_lexer": "ipython3",
   "version": "3.8.2"
  }
 },
 "nbformat": 4,
 "nbformat_minor": 5
}
