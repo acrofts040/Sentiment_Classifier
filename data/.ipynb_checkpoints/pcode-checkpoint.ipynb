{
 "cells": [
  {
   "cell_type": "code",
   "execution_count": 76,
   "id": "916a437f",
   "metadata": {},
   "outputs": [
    {
     "name": "stderr",
     "output_type": "stream",
     "text": [
      "[nltk_data] Downloading package stopwords to\n",
      "[nltk_data]     /Users/andrewcrofts/nltk_data...\n",
      "[nltk_data]   Package stopwords is already up-to-date!\n",
      "[nltk_data] Downloading package words to\n",
      "[nltk_data]     /Users/andrewcrofts/nltk_data...\n",
      "[nltk_data]   Package words is already up-to-date!\n"
     ]
    }
   ],
   "source": [
    "import numpy as np\n",
    "import pandas as pd\n",
    "from matplotlib import pyplot as plt\n",
    "import nltk\n",
    "nltk.download('stopwords')\n",
    "import re\n",
    "from nltk.stem.porter import PorterStemmer\n",
    "import nltk\n",
    "nltk.download('words')\n",
    "from nltk.corpus import words\n",
    "setofwords = set(words.words())\n",
    "\n",
    "from sklearn.feature_extraction.text import CountVectorizer\n",
    "\n",
    "\n",
    "\n",
    "x_train_df = pd.read_csv('data_reviews/x_train.csv')\n",
    "y_train_df = np.loadtxt('data_reviews/y_train.csv', delimiter=',', skiprows=1)\n",
    "x_test = pd.read_csv('data_reviews/x_test.csv')\n",
    "\n",
    "\n",
    "tr_text_list = x_train_df['text'].values.tolist()\n",
    "x_test_list = x_test['text'].values.tolist()\n",
    "\n",
    "a_file = open(\"data_reviews/stops.txt\")\n",
    "file_contents = a_file.read()\n",
    "stopwords = file_contents.splitlines()\n"
   ]
  },
  {
   "cell_type": "markdown",
   "id": "c38388dd-716b-42bb-90e6-7f7bed05e7be",
   "metadata": {},
   "source": [
    "# Part 0: Pre-Pre Processing"
   ]
  },
  {
   "cell_type": "code",
   "execution_count": 77,
   "id": "e3b91800",
   "metadata": {},
   "outputs": [],
   "source": [
    "import string\n",
    "\n",
    "#pre process, remove all punctuation, and other things\n",
    "\n",
    "l = len(tr_text_list)\n",
    "for i in range(0,l): \n",
    "    a = tr_text_list[i]\n",
    "    tr_text_list[i] = a.translate(str.maketrans('', '', string.punctuation))\n",
    "\n",
    "    \n"
   ]
  },
  {
   "cell_type": "code",
   "execution_count": 78,
   "id": "6c312f2d-4d04-4495-9773-45250bb08b82",
   "metadata": {},
   "outputs": [
    {
     "name": "stdout",
     "output_type": "stream",
     "text": [
      "600\n",
      "e\n",
      "<class 'list'>\n"
     ]
    }
   ],
   "source": [
    "#x test tokenizer\n",
    "\n",
    "print(len(x_test_list))\n",
    "\n",
    "print(x_test_list[5][146])\n",
    "\n",
    "\n",
    "\n",
    "l = len(x_test_list)\n",
    "arr = []\n",
    "for i in range(0,l):\n",
    "    #remove punctuation\n",
    "    a = x_test_list[i]\n",
    "    x_test_list[i] = a.translate(str.maketrans('', '', string.punctuation))\n",
    "    \n",
    "    #lowercase all characters\n",
    "    #a2 = len(a)\n",
    "   # print(a2)\n",
    "    #st = \"\"\n",
    "   # for j in range(0,a2):\n",
    "        #print(j)\n",
    "    #    st += x_test[i][j].lower()\n",
    "    #arr.append(st)\n",
    "   # print(\"DONE\")\n",
    "    \n",
    "#x_test = arr\n",
    "\n",
    "print(type(x_test_list))\n",
    "\n",
    "\n",
    "#pd.DataFrame(x_test.toarray(), columns=count_vectorizer.get_feature_names_out())\n",
    "\n",
    "#TODO:remove numbers and super rare words possibly"
   ]
  },
  {
   "cell_type": "code",
   "execution_count": 79,
   "id": "9d3ec750",
   "metadata": {},
   "outputs": [],
   "source": [
    "\n",
    "\n",
    "def stop_stemming_tokenizer(str_input):\n",
    "    words = re.sub(r\"[^A-Za-z0-9\\-]\", \" \", str_input).lower().split()\n",
    "    # remove stops using nltk\n",
    "    #\n",
    "    # NOTE: for demo purposes only! You may well find \n",
    "    # that the nltk version of 'english' has issues similar\n",
    "    # to the version found in sklearn; you may want to use\n",
    "    # your own custom list of stop-words instead\n",
    "    stops = stopwords\n",
    "    words = [w for w in words if (w not in stops) and (w in setofwords)]\n",
    "    \n",
    "    # stem the remaining words after removing stops; \n",
    "    # what happens if we do this *before* removing stops?\n",
    "    porter_stemmer = PorterStemmer()\n",
    "    words = [porter_stemmer.stem(word) for word in words]\n",
    "    \n",
    "    return words\n",
    "\n",
    "\n",
    "\n",
    "\n",
    "\n",
    "\n",
    "\n"
   ]
  },
  {
   "cell_type": "markdown",
   "id": "069becbe",
   "metadata": {},
   "source": [
    "# Part 0.5: Testing Infrastructure"
   ]
  },
  {
   "cell_type": "code",
   "execution_count": 80,
   "id": "5cdb10b3",
   "metadata": {},
   "outputs": [],
   "source": [
    "def k_fold_split(arr,k):\n",
    "    l = len(arr)\n",
    "    split = int(round(l/k))\n",
    "    \n",
    "    # test , train\n",
    "    return arr[:split] , arr[split:]\n"
   ]
  },
  {
   "cell_type": "markdown",
   "id": "e617e4e2-ba23-4f89-b4c8-9c2fd4060e00",
   "metadata": {},
   "source": [
    "# Part 1: Creating Classifiers"
   ]
  },
  {
   "cell_type": "code",
   "execution_count": 81,
   "id": "237ca327",
   "metadata": {},
   "outputs": [
    {
     "name": "stdout",
     "output_type": "stream",
     "text": [
      "2400\n",
      "2000\n"
     ]
    }
   ],
   "source": [
    "#first attempt, vanilla, no preprocessing\n",
    "\n",
    "print(len(tr_text_list))\n",
    "i = 6\n",
    "x_split,x_train = k_fold_split(tr_text_list,i)\n",
    "y_split,y_train = k_fold_split(y_train_df,i)\n",
    "\n",
    "print(len(x_train))\n",
    "\n",
    "count_vectorizer = CountVectorizer()\n",
    "\n",
    "x = count_vectorizer.fit_transform(x_train)\n",
    "x_train = pd.DataFrame(x.toarray(), columns=count_vectorizer.get_feature_names_out())\n",
    "\n",
    "xl = count_vectorizer.transform(x_split)\n",
    "x_split = pd.DataFrame(xl.toarray(), columns=count_vectorizer.get_feature_names_out())\n",
    "\n",
    "\n",
    "xt = count_vectorizer.transform(x_test_list)\n",
    "x_test = pd.DataFrame(xt.toarray(), columns=count_vectorizer.get_feature_names_out())"
   ]
  },
  {
   "cell_type": "code",
   "execution_count": 100,
   "id": "4f7c8cca",
   "metadata": {},
   "outputs": [],
   "source": [
    "from sklearn.feature_extraction.text import TfidfVectorizer\n",
    "\n",
    "i = 3\n",
    "tempx1,tempx2 = k_fold_split(tr_text_list,i)\n",
    "tempy1,tempy2 = k_fold_split(y_train_df,i)\n",
    "\n",
    "\n",
    "\n",
    "tf_vectorizer = TfidfVectorizer(tokenizer=stop_stemming_tokenizer, use_idf=False)\n",
    "x2 = tf_vectorizer.fit_transform(tempx2)\n",
    "x_train2 = pd.DataFrame(x2.toarray(), columns=tf_vectorizer.get_feature_names_out())\n",
    "\n",
    "xl2 = tf_vectorizer.transform(tempx1)\n",
    "x_split2 = pd.DataFrame(xl2.toarray(), columns=tf_vectorizer.get_feature_names_out())\n",
    "\n",
    "\n",
    "#print(x_train2)\n",
    "xt2 = tf_vectorizer.transform(x_test_list)\n",
    "x_test2 = pd.DataFrame(xt2.toarray(), columns=tf_vectorizer.get_feature_names_out())\n",
    "\n",
    "#print(len(x_split2))\n",
    "#print(len(tempy2))"
   ]
  },
  {
   "cell_type": "code",
   "execution_count": 91,
   "id": "3a1cae98",
   "metadata": {},
   "outputs": [
    {
     "name": "stdout",
     "output_type": "stream",
     "text": [
      "0.4425\n",
      "0.69375\n"
     ]
    }
   ],
   "source": [
    "\n",
    "from sklearn.linear_model import LogisticRegression\n",
    "\n",
    "clf = LogisticRegression(random_state=0).fit(x_train, y_train)\n",
    "print(clf.score(x_split,y_split))\n",
    "\n",
    "\n",
    "\n",
    "clf2 = LogisticRegression(random_state=10).fit(x_train2, tempy2)\n",
    "\n",
    "print(clf2.score(x_split2,tempy1))\n",
    "\n",
    "yproba1_test = clf2.predict(x_test2)\n",
    "np.savetxt('yproba1_test.txt', yproba1_test)"
   ]
  },
  {
   "cell_type": "markdown",
   "id": "1e5f9ebf",
   "metadata": {},
   "source": [
    "# Part 2: Neural Network"
   ]
  },
  {
   "cell_type": "code",
   "execution_count": 84,
   "id": "21e1a2e7-5dd3-4600-ab6b-4cdb17096bb3",
   "metadata": {},
   "outputs": [
    {
     "name": "stdout",
     "output_type": "stream",
     "text": [
      "done\n",
      "done\n",
      "done\n",
      "done\n",
      "done\n",
      "done\n",
      "done\n",
      "done\n",
      "done\n",
      "done\n",
      "done\n",
      "done\n",
      "done\n",
      "done\n",
      "done\n",
      "done\n",
      "done\n",
      "done\n",
      "done\n",
      "done\n"
     ]
    }
   ],
   "source": [
    "#Neural Network Model #1 : Sklearn Docs Demo\n",
    "from sklearn.neural_network import MLPClassifier\n",
    "\n",
    "\n",
    "#find optimal alpha\n",
    "alphas = np.logspace(-6, 2, base=10, num=20)\n",
    "scores = []\n",
    "for i in range(0,20):\n",
    "    #clf3 = MLPClassifier(solver='lbfgs', alpha=alphas[i], hidden_layer_sizes=(5, 2), random_state=1)\n",
    "    clf3 = MLPClassifier(hidden_layer_sizes=(10,), alpha = alphas[i] ,max_iter=600, random_state=13)\n",
    "    clf3.fit(x_train, y_train)\n",
    "    scores.append(clf3.score(x_split,y_split))\n",
    "    print(\"done\")\n",
    "\n",
    "\n",
    "#k fold test\n",
    "#clf3.score(x_split,y_split)"
   ]
  },
  {
   "cell_type": "code",
   "execution_count": 85,
   "id": "e2f42dab",
   "metadata": {},
   "outputs": [
    {
     "name": "stdout",
     "output_type": "stream",
     "text": [
      "0.5025\n",
      "12\n",
      "0.0008858667904100823\n"
     ]
    },
    {
     "data": {
      "image/png": "[encoded data removed]",
      "text/plain": [
       "<Figure size 432x288 with 1 Axes>"
      ]
     },
     "metadata": {
      "needs_background": "light"
     },
     "output_type": "display_data"
    }
   ],
   "source": [
    "plt.plot(scores)\n",
    "plt.xlabel(\"Alphas\")\n",
    "plt.ylabel(\"Model Score\")\n",
    "plt.ylim([.3,.65])\n",
    "\n",
    "\n",
    "\n",
    "print(max(scores))\n",
    "print(scores.index(max(scores)))\n",
    "print(alphas[7])"
   ]
  },
  {
   "cell_type": "code",
   "execution_count": 86,
   "id": "dabc6188",
   "metadata": {},
   "outputs": [
    {
     "name": "stderr",
     "output_type": "stream",
     "text": [
      "/opt/miniconda3/envs/ml135_env_sp21/lib/python3.8/site-packages/sklearn/neural_network/_multilayer_perceptron.py:692: ConvergenceWarning: Stochastic Optimizer: Maximum iterations (100) reached and the optimization hasn't converged yet.\n",
      "  warnings.warn(\n"
     ]
    },
    {
     "name": "stdout",
     "output_type": "stream",
     "text": [
      "done 0\n"
     ]
    },
    {
     "name": "stderr",
     "output_type": "stream",
     "text": [
      "/opt/miniconda3/envs/ml135_env_sp21/lib/python3.8/site-packages/sklearn/neural_network/_multilayer_perceptron.py:692: ConvergenceWarning: Stochastic Optimizer: Maximum iterations (163) reached and the optimization hasn't converged yet.\n",
      "  warnings.warn(\n"
     ]
    },
    {
     "name": "stdout",
     "output_type": "stream",
     "text": [
      "done 1\n",
      "done 2\n",
      "done 3\n",
      "done 4\n",
      "done 5\n",
      "done 6\n",
      "done 7\n",
      "done 8\n",
      "done 9\n",
      "done 10\n",
      "done 11\n",
      "done 12\n",
      "done 13\n",
      "done 14\n"
     ]
    }
   ],
   "source": [
    "iters = np.logspace(2, 5, base=10, num=15)\n",
    "iters = [int(x) for x in iters]\n",
    "scores2 = []\n",
    "\n",
    "for i in range(0,15):\n",
    "    #clf3 = MLPClassifier(solver='lbfgs', alpha=alphas[i], hidden_layer_sizes=(5, 2), random_state=1)\n",
    "    clf3 = MLPClassifier(hidden_layer_sizes=(10,), alpha = .01 ,max_iter=iters[i], random_state=13)\n",
    "    clf3.fit(x_train, y_train)\n",
    "    scores2.append(clf3.score(x_split,y_split))\n",
    "    print(\"done\",i)\n",
    "\n"
   ]
  },
  {
   "cell_type": "code",
   "execution_count": 87,
   "id": "4ca3218f",
   "metadata": {},
   "outputs": [
    {
     "data": {
      "text/plain": [
       "(0.3, 0.65)"
      ]
     },
     "execution_count": 87,
     "metadata": {},
     "output_type": "execute_result"
    },
    {
     "data": {
      "image/png": "[encoded data removed]",
      "text/plain": [
       "<Figure size 432x288 with 1 Axes>"
      ]
     },
     "metadata": {
      "needs_background": "light"
     },
     "output_type": "display_data"
    }
   ],
   "source": [
    "plt.plot(scores2)\n",
    "plt.xlabel(\"Max_Iterations\")\n",
    "plt.ylabel(\"Model Score\")\n",
    "plt.ylim([.3,.65])\n",
    "\n"
   ]
  },
  {
   "cell_type": "code",
   "execution_count": 88,
   "id": "7c4dc8ad",
   "metadata": {},
   "outputs": [
    {
     "name": "stdout",
     "output_type": "stream",
     "text": [
      "0.46\n",
      "0.48\n"
     ]
    }
   ],
   "source": [
    "clf2 = MLPClassifier(solver='lbfgs', alpha=.01,max_iter=400, hidden_layer_sizes=(10,), random_state=100)\n",
    "clf2.fit(x_train, y_train)\n",
    "clf3 = MLPClassifier(hidden_layer_sizes=(10,), alpha = .01 ,max_iter=400, random_state=13)\n",
    "clf3.fit(x_train, y_train)\n",
    "#400 should be plenty\n",
    "\n",
    "print(clf2.score(x_split,y_split))\n",
    "print(clf3.score(x_split,y_split))"
   ]
  },
  {
   "cell_type": "code",
   "execution_count": 89,
   "id": "40648997",
   "metadata": {},
   "outputs": [
    {
     "name": "stdout",
     "output_type": "stream",
     "text": [
      "1600\n",
      "2000\n",
      "0.966875\n",
      "0.6625\n"
     ]
    }
   ],
   "source": [
    "#Neural Network Model #2 : Marty's demo implementation\n",
    "#TODO: mess with parameters\n",
    "print(len(x_train2))\n",
    "print(len(y_train))\n",
    "\n",
    "network = MLPClassifier(solver='adam', alpha=.008,max_iter=14000, hidden_layer_sizes=(10,), random_state=100)\n",
    "network.fit(x_train2, tempy2)\n",
    "print(network.score(x_train2, tempy2))\n",
    "#k fold test\n",
    "print(network.score(x_split2,tempy1))\n",
    "\n",
    "\n",
    "#network.get_params()"
   ]
  },
  {
   "cell_type": "code",
   "execution_count": 90,
   "id": "9799cda1",
   "metadata": {},
   "outputs": [],
   "source": [
    "#TODO: VERY IMPORTANT: retrain with whole(unsplit) data set\n",
    "\n",
    "yproba1_test = network.predict(x_test2)\n",
    "np.savetxt('yproba1_test.txt', yproba1_test)\n"
   ]
  },
  {
   "cell_type": "markdown",
   "id": "3b68fd60",
   "metadata": {},
   "source": [
    "# Part 3: SVM or Something...."
   ]
  },
  {
   "cell_type": "code",
   "execution_count": 19,
   "id": "98d7fe55",
   "metadata": {},
   "outputs": [
    {
     "name": "stdout",
     "output_type": "stream",
     "text": [
      "0.6086956521739131\n"
     ]
    }
   ],
   "source": [
    "from sklearn import svm\n",
    "\n",
    "clf4 = svm.SVC()\n",
    "clf4.fit(x_train2, tempy2)\n",
    "\n",
    "print(clf4.score(x_split2,tempy1))\n",
    "\n",
    "\n",
    "#yproba1_test = clf4.predict(x_test)\n",
    "#np.savetxt('yproba1_test.txt', yproba1_test)"
   ]
  },
  {
   "cell_type": "code",
   "execution_count": 103,
   "id": "a8acce6d",
   "metadata": {},
   "outputs": [
    {
     "name": "stdout",
     "output_type": "stream",
     "text": [
      "0.7025\n"
     ]
    }
   ],
   "source": [
    "from sklearn import svm, datasets\n",
    "from sklearn.model_selection import GridSearchCV\n",
    "\n",
    "\n",
    "parameters = {'kernel':('linear', 'sigmoid','rbf'), 'C':[1, 10], 'gamma':('scale', 'auto'), 'shrinking':(True,False)}\n",
    "svc = svm.SVC()\n",
    "grid = GridSearchCV(svc, parameters)\n",
    "grid.fit(x_train2, tempy2)\n",
    "print(grid.score(x_split2, tempy1))"
   ]
  },
  {
   "cell_type": "code",
   "execution_count": 97,
   "id": "a77989cc",
   "metadata": {},
   "outputs": [
    {
     "data": {
      "text/plain": [
       "{'cv': None,\n",
       " 'error_score': nan,\n",
       " 'estimator__C': 1.0,\n",
       " 'estimator__break_ties': False,\n",
       " 'estimator__cache_size': 200,\n",
       " 'estimator__class_weight': None,\n",
       " 'estimator__coef0': 0.0,\n",
       " 'estimator__decision_function_shape': 'ovr',\n",
       " 'estimator__degree': 3,\n",
       " 'estimator__gamma': 'scale',\n",
       " 'estimator__kernel': 'rbf',\n",
       " 'estimator__max_iter': -1,\n",
       " 'estimator__probability': False,\n",
       " 'estimator__random_state': None,\n",
       " 'estimator__shrinking': True,\n",
       " 'estimator__tol': 0.001,\n",
       " 'estimator__verbose': False,\n",
       " 'estimator': SVC(),\n",
       " 'n_jobs': None,\n",
       " 'param_grid': {'kernel': ('linear', 'rbf'), 'C': [1, 10]},\n",
       " 'pre_dispatch': '2*n_jobs',\n",
       " 'refit': True,\n",
       " 'return_train_score': False,\n",
       " 'scoring': None,\n",
       " 'verbose': 0}"
      ]
     },
     "execution_count": 97,
     "metadata": {},
     "output_type": "execute_result"
    }
   ],
   "source": []
  },
  {
   "cell_type": "code",
   "execution_count": null,
   "id": "04a8ad07",
   "metadata": {},
   "outputs": [],
   "source": []
  }
 ],
 "metadata": {
  "kernelspec": {
   "display_name": "Python 3 (ipykernel)",
   "language": "python",
   "name": "python3"
  },
  "language_info": {
   "codemirror_mode": {
    "name": "ipython",
    "version": 3
   },
   "file_extension": ".py",
   "mimetype": "text/x-python",
   "name": "python",
   "nbconvert_exporter": "python",
   "pygments_lexer": "ipython3",
   "version": "3.8.2"
  }
 },
 "nbformat": 4,
 "nbformat_minor": 5
}
